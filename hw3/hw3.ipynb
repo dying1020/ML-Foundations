{
 "cells": [
  {
   "cell_type": "markdown",
   "metadata": {},
   "source": [
    "# ML Foundations hw3 - Coursera"
   ]
  },
  {
   "cell_type": "code",
   "execution_count": 120,
   "metadata": {},
   "outputs": [],
   "source": [
    "from sympy import *\n",
    "import numpy as np"
   ]
  },
  {
   "cell_type": "markdown",
   "metadata": {},
   "source": [
    "## 1."
   ]
  },
  {
   "cell_type": "code",
   "execution_count": 75,
   "metadata": {},
   "outputs": [],
   "source": [
    "variance = 0.1\n",
    "d = 8\n",
    "E_in = 0.008\n",
    "N = Symbol('N')\n",
    "eq = Eq(variance**2 * (1 - (d+1) / N), E_in)"
   ]
  },
  {
   "cell_type": "code",
   "execution_count": 18,
   "metadata": {},
   "outputs": [
    {
     "data": {
      "text/plain": [
       "[45.0000000000000]"
      ]
     },
     "execution_count": 18,
     "metadata": {},
     "output_type": "execute_result"
    }
   ],
   "source": [
    "solve(eq, N)"
   ]
  },
  {
   "cell_type": "code",
   "execution_count": 96,
   "metadata": {},
   "outputs": [
    {
     "data": {
      "text/plain": [
       "0.00910000000000000"
      ]
     },
     "execution_count": 96,
     "metadata": {},
     "output_type": "execute_result"
    }
   ],
   "source": [
    "(variance**2 * (1 - (d+1) / N)).subs(N, 100)"
   ]
  },
  {
   "cell_type": "markdown",
   "metadata": {},
   "source": [
    "## 6."
   ]
  },
  {
   "cell_type": "code",
   "execution_count": 48,
   "metadata": {},
   "outputs": [],
   "source": [
    "u, v = Symbol('u'), Symbol('v')\n",
    "E = exp(u) + exp(2*v) + exp(u*v) + u**2 - 2*u*v + 2*(v**2) - 3*u - 2*v"
   ]
  },
  {
   "cell_type": "code",
   "execution_count": 110,
   "metadata": {},
   "outputs": [
    {
     "name": "stdout",
     "output_type": "stream",
     "text": [
      "gradient of u = -2\n",
      "gradient of v = 0\n"
     ]
    }
   ],
   "source": [
    "print('gradient of u =', diff(E, u).subs([(u, 0), (v, 0)]))\n",
    "print('gradient of v =', diff(E, v).subs([(u, 0), (v, 0)]))"
   ]
  },
  {
   "cell_type": "markdown",
   "metadata": {},
   "source": [
    "## 7."
   ]
  },
  {
   "cell_type": "code",
   "execution_count": 58,
   "metadata": {},
   "outputs": [],
   "source": [
    "def gradient_descent(eq, iteration, eta, start):\n",
    "    u_t, v_t = start\n",
    "    for i in range(iteration):\n",
    "        u_t_next = u_t - eta * diff(E, u).subs([(u, u_t), (v, v_t)])\n",
    "        v_t_next = v_t - eta * diff(E, v).subs([(u, u_t), (v, v_t)])\n",
    "        u_t = u_t_next\n",
    "        v_t = v_t_next\n",
    "    return (u_t, v_t)"
   ]
  },
  {
   "cell_type": "code",
   "execution_count": 59,
   "metadata": {},
   "outputs": [],
   "source": [
    "start = (0, 0)\n",
    "(u_t, v_t) = gradient_descent(E, 5, 0.01, start)"
   ]
  },
  {
   "cell_type": "code",
   "execution_count": 60,
   "metadata": {
    "scrolled": true
   },
   "outputs": [
    {
     "data": {
      "text/plain": [
       "2.82500035668326"
      ]
     },
     "execution_count": 60,
     "metadata": {},
     "output_type": "execute_result"
    }
   ],
   "source": [
    "E.subs([(u, u_t), (v, v_t)])"
   ]
  },
  {
   "cell_type": "markdown",
   "metadata": {},
   "source": [
    "## 8."
   ]
  },
  {
   "cell_type": "code",
   "execution_count": 119,
   "metadata": {},
   "outputs": [
    {
     "name": "stdout",
     "output_type": "stream",
     "text": [
      "b_uu = 3/2\n",
      "b_vv = 4\n",
      "b_uv = -1\n",
      "b_u = -2\n",
      "b_v = 0\n",
      "b = 3\n"
     ]
    }
   ],
   "source": [
    "b_uu = diff(diff(E, u), u).subs([(u, 0), (v, 0)]) / factorial(2)\n",
    "print('b_uu =', b_uu)\n",
    "\n",
    "b_vv = diff(diff(E, v), v).subs([(u, 0), (v, 0)]) / factorial(2)\n",
    "print('b_vv =', b_vv)\n",
    "\n",
    "b_uv= diff(diff(E, u), v).subs([(u, 0), (v, 0)])\n",
    "print('b_uv =', b_uv)\n",
    "\n",
    "b_u = diff(E, u).subs([(u, 0), (v, 0)])\n",
    "print('b_u =', b_u)\n",
    "\n",
    "b_v = diff(E, v).subs([(u, 0), (v, 0)])\n",
    "print('b_v =', b_v)\n",
    "\n",
    "b = E.subs([(u, 0), (v, 0)])\n",
    "print('b =', b)"
   ]
  },
  {
   "cell_type": "markdown",
   "metadata": {},
   "source": [
    "## 13."
   ]
  },
  {
   "cell_type": "code",
   "execution_count": 347,
   "metadata": {},
   "outputs": [],
   "source": [
    "def f(x1, x2):\n",
    "    return np.sign(x1**2 + x2**2 - 0.6)\n",
    "\n",
    "def gen_data(data_size):\n",
    "    x0 = np.ones(data_size)\n",
    "    x1 = np.random.uniform(low=-1, high=1, size=data_size)\n",
    "    x2 = np.random.uniform(low=-1, high=1, size=data_size)\n",
    "    X = np.array([x0, x1, x2]).T\n",
    "    \n",
    "    Y = []\n",
    "    for x0, x1, x2 in X:\n",
    "        y = f(x1, x2)\n",
    "        Y.append(y)\n",
    "    Y = np.array(Y)\n",
    "    # Generate simulated noise by flipping the sign of the output\n",
    "    flip_index = np.random.randint(0, data_size, int(data_size*0.1))\n",
    "    Y[flip_index] *= -1\n",
    "    \n",
    "    Y = Y.reshape(-1, 1)\n",
    "    \n",
    "    return X, Y\n",
    "\n",
    "def train(X, Y):\n",
    "    pseudo_inv = np.linalg.pinv(X)\n",
    "    w = np.dot(pseudo_inv, Y)\n",
    "    return np.array(w)\n",
    "\n",
    "def eval_error(X, Y, w):\n",
    "    Y_hat = np.sign(np.dot(X, w))\n",
    "    return len(Y_hat[Y_hat != Y]) / len(X)"
   ]
  },
  {
   "cell_type": "code",
   "execution_count": 332,
   "metadata": {},
   "outputs": [
    {
     "name": "stdout",
     "output_type": "stream",
     "text": [
      "in-sample error = 0.5052499999999998\n"
     ]
    }
   ],
   "source": [
    "error = 0\n",
    "exp_time = 1000\n",
    "for i in range(exp_time):\n",
    "    X, Y = gen_data(1000)\n",
    "    w = train(X, Y)\n",
    "    error += eval_error(X, Y, w)\n",
    "print('in-sample error =', error / exp_time)"
   ]
  },
  {
   "cell_type": "markdown",
   "metadata": {},
   "source": [
    "## 14."
   ]
  },
  {
   "cell_type": "code",
   "execution_count": 333,
   "metadata": {},
   "outputs": [],
   "source": [
    "def transform(X):\n",
    "    X_tran = []\n",
    "    for x0, x1, x2 in X:\n",
    "        X_tran.append([1, x0, x1, x1*x2, x1**2, x2**2])\n",
    "    return np.array(X_tran)"
   ]
  },
  {
   "cell_type": "code",
   "execution_count": 334,
   "metadata": {},
   "outputs": [],
   "source": [
    "X_tran = transform(X)\n",
    "w = train(X_tran, Y)"
   ]
  },
  {
   "cell_type": "code",
   "execution_count": 339,
   "metadata": {},
   "outputs": [],
   "source": [
    "options = [\n",
    "    [-1, -1.5, 0.08, 0.13, 0.05, 0.05],\n",
    "    [-1, -0.05, 0.08, 0.13, 15, 1.5],\n",
    "    [-1, -0.05, 0.08, 0.13, 1.5, 1.5],\n",
    "    [-1, -1.5, 0.08, 0.13, 0.05, 1.5],\n",
    "    [-1, 0.05, 0.08, 0.13, 1.5, 15]\n",
    "]\n",
    "options = np.array(options)"
   ]
  },
  {
   "cell_type": "code",
   "execution_count": 352,
   "metadata": {
    "scrolled": false
   },
   "outputs": [
    {
     "name": "stdout",
     "output_type": "stream",
     "text": [
      "in-sample error = 0.114\n",
      "out-sample error 0 = 0.518\n",
      "out-sample error 1 = 0.353\n",
      "out-sample error 2 = 0.154\n",
      "out-sample error 3 = 0.518\n",
      "out-sample error 4 = 0.354\n"
     ]
    }
   ],
   "source": [
    "print('in-sample error =', eval_error(X_tran, Y, w))\n",
    "for index, o in enumerate(options):\n",
    "    print('out-sample error', index, '=',eval_error(X_tran, Y, o.reshape(-1, 1)))"
   ]
  },
  {
   "cell_type": "code",
   "execution_count": 359,
   "metadata": {},
   "outputs": [
    {
     "name": "stdout",
     "output_type": "stream",
     "text": [
      "out-sample error = 0.12071399999999989\n"
     ]
    }
   ],
   "source": [
    "error = 0\n",
    "exp_time = 1000\n",
    "for i in range(exp_time):\n",
    "    X, Y = gen_data(1000)\n",
    "    X_test, Y_test = gen_data(1000)\n",
    "    X_tran = transform(X)\n",
    "    X_test_tran = transform(X_test)\n",
    "    w = train(X_tran, Y)\n",
    "    error += eval_error(X_test_tran, Y_test, w)\n",
    "print('out-sample error =', error / exp_time)"
   ]
  },
  {
   "cell_type": "markdown",
   "metadata": {},
   "source": [
    "## 18."
   ]
  },
  {
   "cell_type": "code",
   "execution_count": 366,
   "metadata": {},
   "outputs": [],
   "source": [
    "train_data = np.loadtxt('./hw3_train.dat.txt')\n",
    "test_data = np.loadtxt('./hw3_test.dat.txt')"
   ]
  },
  {
   "cell_type": "code",
   "execution_count": 383,
   "metadata": {},
   "outputs": [],
   "source": [
    "X_train, Y_train = train_data[:, :-1], train_data[:, -1]\n",
    "X_test, Y_test = test_data[:, :-1], test_data[:, -1]\n",
    "x_dim = X_train.shape[1]"
   ]
  },
  {
   "cell_type": "code",
   "execution_count": 388,
   "metadata": {},
   "outputs": [],
   "source": [
    "def sigmoid(s):\n",
    "    return 1 / (1 + np.exp(-s))\n",
    "\n",
    "def gradient(X, Y, w):\n",
    "    grad = np.zeros(x_dim)\n",
    "    for i in range(len(X)):\n",
    "        grad += sigmoid(-Y[i]*np.dot(w, X[i])) * (-Y[i]*X[i])\n",
    "    grad /= len(X)\n",
    "    return grad\n",
    "\n",
    "def logistic_regression(X, Y, eta, T):\n",
    "    # Initalize w, shape = dim of x\n",
    "    w = np.zeros(x_dim)\n",
    "    for t in range(T):\n",
    "        grad = gradient(X, Y, w)\n",
    "        w -= eta * grad\n",
    "    return w"
   ]
  },
  {
   "cell_type": "code",
   "execution_count": 424,
   "metadata": {},
   "outputs": [],
   "source": [
    "w = logistic_regression(X_train, Y_train, eta=0.001, T=2000)"
   ]
  },
  {
   "cell_type": "code",
   "execution_count": 425,
   "metadata": {},
   "outputs": [
    {
     "name": "stdout",
     "output_type": "stream",
     "text": [
      "in-sample error = 0.464\n",
      "out-sample error = 0.4716666666666667\n"
     ]
    }
   ],
   "source": [
    "print('in-sample error =', eval_error(X_train, Y_train, w))\n",
    "print('out-sample error =', eval_error(X_test, Y_test, w))"
   ]
  },
  {
   "cell_type": "markdown",
   "metadata": {},
   "source": [
    "## 19."
   ]
  },
  {
   "cell_type": "code",
   "execution_count": 395,
   "metadata": {},
   "outputs": [],
   "source": [
    "w = logistic_regression(X_train, Y_train, eta=0.01, T=2000)"
   ]
  },
  {
   "cell_type": "code",
   "execution_count": 396,
   "metadata": {},
   "outputs": [
    {
     "name": "stdout",
     "output_type": "stream",
     "text": [
      "in-sample error = 0.198\n",
      "out-sample error = 0.22066666666666668\n"
     ]
    }
   ],
   "source": [
    "print('in-sample error =', eval_error(X_train, Y_train, w))\n",
    "print('out-sample error =', eval_error(X_test, Y_test, w))"
   ]
  },
  {
   "cell_type": "markdown",
   "metadata": {},
   "source": [
    "## 20."
   ]
  },
  {
   "cell_type": "code",
   "execution_count": 398,
   "metadata": {},
   "outputs": [],
   "source": [
    "def stochastic_gradient(X, Y, w, i):\n",
    "    grad = sigmoid(-Y[i]*np.dot(w, X[i])) * (-Y[i]*X[i])\n",
    "    return grad\n",
    "\n",
    "def logistic_regression_sgd(X, Y, eta, T):\n",
    "    # Initalize w, shape = dim of x\n",
    "    w = np.zeros(x_dim)\n",
    "    sample_index = 0\n",
    "    for t in range(T):\n",
    "        grad = stochastic_gradient(X, Y, w, sample_index)\n",
    "        w -= eta * grad\n",
    "        sample_index = (sample_index + 1) % len(X)\n",
    "    return w"
   ]
  },
  {
   "cell_type": "code",
   "execution_count": 422,
   "metadata": {},
   "outputs": [],
   "source": [
    "w = logistic_regression_sgd(X_train, Y_train, eta=0.001, T=2000)"
   ]
  },
  {
   "cell_type": "code",
   "execution_count": 423,
   "metadata": {},
   "outputs": [
    {
     "name": "stdout",
     "output_type": "stream",
     "text": [
      "in-sample error = 0.462\n",
      "out-sample error = 0.4716666666666667\n"
     ]
    }
   ],
   "source": [
    "print('in-sample error =', eval_error(X_train, Y_train, w))\n",
    "print('out-sample error =', eval_error(X_test, Y_test, w))"
   ]
  },
  {
   "cell_type": "markdown",
   "metadata": {},
   "source": [
    "# ML Foundations hw3 - extension"
   ]
  },
  {
   "cell_type": "code",
   "execution_count": 426,
   "metadata": {},
   "outputs": [],
   "source": [
    "import matplotlib.pyplot as plt"
   ]
  },
  {
   "cell_type": "markdown",
   "metadata": {},
   "source": [
    "## 4."
   ]
  },
  {
   "cell_type": "code",
   "execution_count": 452,
   "metadata": {},
   "outputs": [],
   "source": [
    "T = 20000"
   ]
  },
  {
   "cell_type": "code",
   "execution_count": 453,
   "metadata": {},
   "outputs": [],
   "source": [
    "# Gradient descent\n",
    "E_in_gd = []\n",
    "w = np.zeros(x_dim)\n",
    "for t in range(T):\n",
    "    grad = gradient(X_train, Y_train, w)\n",
    "    w -= 0.01 * grad\n",
    "    E_in_gd.append(eval_error(X_train, Y_train, w))"
   ]
  },
  {
   "cell_type": "code",
   "execution_count": 454,
   "metadata": {},
   "outputs": [],
   "source": [
    "# Stochastic Gradient descent\n",
    "E_in_sgd = []\n",
    "w = np.zeros(x_dim)\n",
    "sample_index = 0\n",
    "for t in range(T):\n",
    "    grad = stochastic_gradient(X_train, Y_train, w, sample_index)\n",
    "    w -= 0.001 * grad\n",
    "    sample_index = (sample_index + 1) % len(X)\n",
    "    E_in_sgd.append(eval_error(X_train, Y_train, w))"
   ]
  },
  {
   "cell_type": "code",
   "execution_count": 462,
   "metadata": {
    "scrolled": false
   },
   "outputs": [
    {
     "data": {
      "image/png": "[encoded data removed]",
      "text/plain": [
       "<matplotlib.figure.Figure at 0x11094fbe0>"
      ]
     },
     "metadata": {
      "needs_background": "light"
     },
     "output_type": "display_data"
    }
   ],
   "source": [
    "plt.plot(E_in_gd, label='E_in gd')\n",
    "plt.plot(E_in_sgd, label='E_in sgd')\n",
    "plt.xlabel('t: iteration')\n",
    "plt.ylabel('in-sample error')\n",
    "plt.legend()\n",
    "plt.show()"
   ]
  },
  {
   "cell_type": "markdown",
   "metadata": {},
   "source": [
    "## 5."
   ]
  },
  {
   "cell_type": "code",
   "execution_count": 456,
   "metadata": {},
   "outputs": [],
   "source": [
    "T = 20000"
   ]
  },
  {
   "cell_type": "code",
   "execution_count": 457,
   "metadata": {},
   "outputs": [],
   "source": [
    "# Gradient descent\n",
    "E_out_gd = []\n",
    "w = np.zeros(x_dim)\n",
    "for t in range(T):\n",
    "    grad = gradient(X_train, Y_train, w)\n",
    "    w -= 0.01 * grad\n",
    "    E_out_gd.append(eval_error(X_test, Y_test, w))"
   ]
  },
  {
   "cell_type": "code",
   "execution_count": 458,
   "metadata": {},
   "outputs": [],
   "source": [
    "# Stochastic gradient descent\n",
    "E_out_sgd = []\n",
    "w = np.zeros(x_dim)\n",
    "sample_index = 0\n",
    "for t in range(T):\n",
    "    grad = stochastic_gradient(X_train, Y_train, w, sample_index)\n",
    "    w -= 0.001 * grad\n",
    "    sample_index = (sample_index + 1) % len(X_train)\n",
    "    E_out_sgd.append(eval_error(X_test, Y_test, w))"
   ]
  },
  {
   "cell_type": "code",
   "execution_count": 467,
   "metadata": {},
   "outputs": [
    {
     "data": {
      "image/png": "[encoded data removed]",
      "text/plain": [
       "<matplotlib.figure.Figure at 0x11172e438>"
      ]
     },
     "metadata": {
      "needs_background": "light"
     },
     "output_type": "display_data"
    }
   ],
   "source": [
    "plt.plot(E_out_gd, label='E_out gd')\n",
    "plt.plot(E_out_sgd, label='E_out sgd')\n",
    "plt.xlabel('t: iteration')\n",
    "plt.ylabel('out-sample error')\n",
    "plt.legend()\n",
    "plt.show()"
   ]
  }
 ],
 "metadata": {
  "kernelspec": {
   "display_name": "Python 3",
   "language": "python",
   "name": "python3"
  },
  "language_info": {
   "codemirror_mode": {
    "name": "ipython",
    "version": 3
   },
   "file_extension": ".py",
   "mimetype": "text/x-python",
   "name": "python",
   "nbconvert_exporter": "python",
   "pygments_lexer": "ipython3",
   "version": "3.6.5"
  }
 },
 "nbformat": 4,
 "nbformat_minor": 2
}
