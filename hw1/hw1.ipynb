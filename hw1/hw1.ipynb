{
 "cells": [
  {
   "cell_type": "markdown",
   "metadata": {},
   "source": [
    "# ML Foundations hw1 - Coursera"
   ]
  },
  {
   "cell_type": "markdown",
   "metadata": {},
   "source": [
    "## PLA"
   ]
  },
  {
   "cell_type": "code",
   "execution_count": 1,
   "metadata": {},
   "outputs": [],
   "source": [
    "import numpy as np"
   ]
  },
  {
   "cell_type": "code",
   "execution_count": 2,
   "metadata": {},
   "outputs": [],
   "source": [
    "raw_data = np.loadtxt('hw1_15_train.dat')"
   ]
  },
  {
   "cell_type": "code",
   "execution_count": 3,
   "metadata": {},
   "outputs": [
    {
     "name": "stdout",
     "output_type": "stream",
     "text": [
      "shape of X: (400, 4)\n",
      "shape of y: (400,)\n"
     ]
    }
   ],
   "source": [
    "X = raw_data[:, :4]\n",
    "y = raw_data[:, -1]\n",
    "print('shape of X:', X.shape)\n",
    "print('shape of y:', y.shape)"
   ]
  },
  {
   "cell_type": "markdown",
   "metadata": {},
   "source": [
    "### add $x_0 = 1$ to each $x_n$\n"
   ]
  },
  {
   "cell_type": "code",
   "execution_count": 4,
   "metadata": {},
   "outputs": [
    {
     "name": "stdout",
     "output_type": "stream",
     "text": [
      "shape of X: (400, 5)\n"
     ]
    }
   ],
   "source": [
    "X = np.insert(X, 0, 1, axis=1)\n",
    "print('shape of X:', X.shape)"
   ]
  },
  {
   "cell_type": "code",
   "execution_count": 5,
   "metadata": {},
   "outputs": [],
   "source": [
    "def PLA(X, y):\n",
    "    W = np.zeros(X.shape[1]) # W = 0\n",
    "    update_cnt = 0\n",
    "    done = False\n",
    "    \n",
    "    while not done:\n",
    "        done = True\n",
    "        for i in range(len(X)):\n",
    "            sign = np.sign(np.dot(W, X[i]))\n",
    "            if sign == 0:\n",
    "                sign = -1\n",
    "            \n",
    "            if sign != y[i]:\n",
    "                W = W + y[i] * X[i]\n",
    "                update_cnt = update_cnt + 1\n",
    "                done = False\n",
    "    return W, update_cnt"
   ]
  },
  {
   "cell_type": "markdown",
   "metadata": {},
   "source": [
    "### 15."
   ]
  },
  {
   "cell_type": "code",
   "execution_count": 6,
   "metadata": {
    "scrolled": true
   },
   "outputs": [
    {
     "name": "stdout",
     "output_type": "stream",
     "text": [
      "Total number of updates: 45\n"
     ]
    }
   ],
   "source": [
    "W, update_cnt = PLA(X, y)\n",
    "print('Total number of updates:', update_cnt)"
   ]
  },
  {
   "cell_type": "markdown",
   "metadata": {},
   "source": [
    "### 16."
   ]
  },
  {
   "cell_type": "code",
   "execution_count": 7,
   "metadata": {
    "scrolled": true
   },
   "outputs": [
    {
     "name": "stdout",
     "output_type": "stream",
     "text": [
      "Average number of updates: 40.0285\n"
     ]
    }
   ],
   "source": [
    "total_update_cnt = 0\n",
    "for i in range(2000):\n",
    "    s = np.arange(X.shape[0])\n",
    "    np.random.shuffle(s)\n",
    "    X_rand = X[s]\n",
    "    y_rand = y[s]\n",
    "    W, update_cnt = PLA(X_rand, y_rand)\n",
    "    total_update_cnt = total_update_cnt + update_cnt\n",
    "print('Average number of updates:', total_update_cnt/2000)"
   ]
  },
  {
   "cell_type": "markdown",
   "metadata": {},
   "source": [
    "### 17."
   ]
  },
  {
   "cell_type": "code",
   "execution_count": 8,
   "metadata": {},
   "outputs": [],
   "source": [
    "def PLA_eta(X, y, eta):\n",
    "    W = np.zeros(X.shape[1]) # W = 0\n",
    "    update_cnt = 0\n",
    "    done = False\n",
    "    \n",
    "    while not done:\n",
    "        done = True\n",
    "        for i in range(len(X)):\n",
    "            done = True\n",
    "            sign = np.sign(np.dot(W, X[i]))\n",
    "            if sign == 0:\n",
    "                sign = -1\n",
    "            \n",
    "            if sign != y[i]:\n",
    "                W = W + eta * y[i] * X[i]\n",
    "                update_cnt = update_cnt + 1\n",
    "                done = False\n",
    "    \n",
    "    return W, update_cnt"
   ]
  },
  {
   "cell_type": "code",
   "execution_count": 9,
   "metadata": {
    "scrolled": true
   },
   "outputs": [
    {
     "name": "stdout",
     "output_type": "stream",
     "text": [
      "Average number of updates: 34.102\n"
     ]
    }
   ],
   "source": [
    "total_update_cnt = 0\n",
    "for i in range(2000):\n",
    "    s = np.arange(X.shape[0])\n",
    "    np.random.shuffle(s)\n",
    "    X_rand = X[s]\n",
    "    y_rand = y[s]\n",
    "    W, update_cnt = PLA_eta(X_rand, y_rand, 0.5)\n",
    "    total_update_cnt = total_update_cnt + update_cnt\n",
    "print('Average number of updates:', total_update_cnt/2000)"
   ]
  },
  {
   "cell_type": "markdown",
   "metadata": {},
   "source": [
    "## Pocket Algorithm"
   ]
  },
  {
   "cell_type": "markdown",
   "metadata": {},
   "source": [
    "### 18."
   ]
  },
  {
   "cell_type": "code",
   "execution_count": 10,
   "metadata": {},
   "outputs": [],
   "source": [
    "train_data = np.loadtxt('hw1_18_train.dat')\n",
    "test_data = np.loadtxt('hw1_18_test.dat')"
   ]
  },
  {
   "cell_type": "code",
   "execution_count": 11,
   "metadata": {},
   "outputs": [
    {
     "name": "stdout",
     "output_type": "stream",
     "text": [
      "shape of X: (500, 4)\n",
      "shape of y: (500,)\n"
     ]
    }
   ],
   "source": [
    "X = train_data[:, :4]\n",
    "y = train_data[:, -1]\n",
    "print('shape of X:', X.shape)\n",
    "print('shape of y:', y.shape)"
   ]
  },
  {
   "cell_type": "code",
   "execution_count": 12,
   "metadata": {},
   "outputs": [
    {
     "name": "stdout",
     "output_type": "stream",
     "text": [
      "shape of X_test: (500, 4)\n",
      "shape of y_test: (500,)\n"
     ]
    }
   ],
   "source": [
    "X_test = test_data[:, :4]\n",
    "y_test = test_data[:, -1]\n",
    "print('shape of X_test:', X_test.shape)\n",
    "print('shape of y_test:', y_test.shape)"
   ]
  },
  {
   "cell_type": "markdown",
   "metadata": {},
   "source": [
    "### add $x_0 = 1$ to each $x_n$\n"
   ]
  },
  {
   "cell_type": "code",
   "execution_count": 13,
   "metadata": {},
   "outputs": [
    {
     "name": "stdout",
     "output_type": "stream",
     "text": [
      "shape of X: (500, 5)\n"
     ]
    }
   ],
   "source": [
    "X = np.insert(X, 0, 1, axis=1)\n",
    "print('shape of X:', X.shape)"
   ]
  },
  {
   "cell_type": "code",
   "execution_count": 14,
   "metadata": {},
   "outputs": [
    {
     "name": "stdout",
     "output_type": "stream",
     "text": [
      "shape of X_test: (500, 5)\n"
     ]
    }
   ],
   "source": [
    "X_test = np.insert(X_test, 0, 1, axis=1)\n",
    "print('shape of X_test:', X_test.shape)"
   ]
  },
  {
   "cell_type": "code",
   "execution_count": 15,
   "metadata": {},
   "outputs": [],
   "source": [
    "def PLA_pocket(X, y, update_num):\n",
    "    W = np.zeros(X.shape[1]) # W = 0\n",
    "    W_pocket = W\n",
    "    pocket_error_rate = get_error_rate(W_pocket, X, y)\n",
    "    i = 0\n",
    "    update_cnt = 0\n",
    "    \n",
    "    while update_cnt < update_num:\n",
    "        sign = np.sign(np.dot(W, X[i]))\n",
    "        if sign == 0:\n",
    "            sign = -1\n",
    "\n",
    "        if sign != y[i]:\n",
    "            update_cnt = update_cnt + 1\n",
    "\n",
    "            W = W + y[i] * X[i]\n",
    "            error_rate = get_error_rate(W, X, y)\n",
    "            if error_rate < pocket_error_rate:\n",
    "                W_pocket = W\n",
    "                pocket_error_rate = error_rate\n",
    "        i = (i + 1) % X.shape[0]\n",
    "\n",
    "    return W_pocket, W\n",
    "\n",
    "def get_error_rate(W, X, y):\n",
    "    error_cnt = 0\n",
    "    \n",
    "    for i in range(len(X)):\n",
    "        sign = np.sign(np.dot(W, X[i]))\n",
    "        if sign == 0:\n",
    "            sign = -1\n",
    "        if sign != y[i]:\n",
    "            error_cnt = error_cnt + 1\n",
    "\n",
    "    return error_cnt / len(X)"
   ]
  },
  {
   "cell_type": "code",
   "execution_count": 16,
   "metadata": {},
   "outputs": [
    {
     "name": "stdout",
     "output_type": "stream",
     "text": [
      "Average error rate: 0.1241239999999999\n"
     ]
    }
   ],
   "source": [
    "total_error_rate = 0\n",
    "for i in range(2000):\n",
    "    s = np.arange(X.shape[0])\n",
    "    np.random.shuffle(s)\n",
    "    X_rand = X[s]\n",
    "    y_rand = y[s]\n",
    "    W_pocket, W = PLA_pocket(X_rand, y_rand, 50)\n",
    "    error_rate = get_error_rate(W_pocket, X_rand, y_rand)\n",
    "    total_error_rate = total_error_rate + error_rate\n",
    "print('Average error rate:', total_error_rate/2000)"
   ]
  },
  {
   "cell_type": "markdown",
   "metadata": {},
   "source": [
    "### 19."
   ]
  },
  {
   "cell_type": "code",
   "execution_count": 17,
   "metadata": {},
   "outputs": [
    {
     "name": "stdout",
     "output_type": "stream",
     "text": [
      "Average error rate: 0.3610929999999999\n"
     ]
    }
   ],
   "source": [
    "total_error_rate = 0\n",
    "for i in range(2000):\n",
    "    s = np.arange(X.shape[0])\n",
    "    np.random.shuffle(s)\n",
    "    X_rand = X[s]\n",
    "    y_rand = y[s]\n",
    "    W_pocket, W = PLA_pocket(X_rand, y_rand, 50)\n",
    "    error_rate = get_error_rate(W, X_rand, y_rand)\n",
    "    total_error_rate = total_error_rate + error_rate\n",
    "print('Average error rate:', total_error_rate/2000)"
   ]
  },
  {
   "cell_type": "markdown",
   "metadata": {},
   "source": [
    "### 20."
   ]
  },
  {
   "cell_type": "code",
   "execution_count": 18,
   "metadata": {
    "scrolled": true
   },
   "outputs": [
    {
     "name": "stdout",
     "output_type": "stream",
     "text": [
      "Average error rate: 0.10683100000000026\n"
     ]
    }
   ],
   "source": [
    "total_error_rate = 0\n",
    "for i in range(2000):\n",
    "    s = np.arange(X.shape[0])\n",
    "    np.random.shuffle(s)\n",
    "    X_rand = X[s]\n",
    "    y_rand = y[s]\n",
    "    W_pocket, W = PLA_pocket(X_rand, y_rand, 100)\n",
    "    error_rate = get_error_rate(W_pocket, X_rand, y_rand)\n",
    "    total_error_rate = total_error_rate + error_rate\n",
    "print('Average error rate:', total_error_rate/2000)"
   ]
  },
  {
   "cell_type": "markdown",
   "metadata": {},
   "source": [
    "# ML Foundations hw1 - extension"
   ]
  },
  {
   "cell_type": "code",
   "execution_count": 19,
   "metadata": {},
   "outputs": [],
   "source": [
    "raw_data = np.loadtxt('hw1_7_train.dat')"
   ]
  },
  {
   "cell_type": "code",
   "execution_count": 20,
   "metadata": {},
   "outputs": [
    {
     "name": "stdout",
     "output_type": "stream",
     "text": [
      "shape of X: (400, 4)\n",
      "shape of y: (400,)\n"
     ]
    }
   ],
   "source": [
    "X = raw_data[:, :4]\n",
    "y = raw_data[:, -1]\n",
    "print('shape of X:', X.shape)\n",
    "print('shape of y:', y.shape)"
   ]
  },
  {
   "cell_type": "markdown",
   "metadata": {},
   "source": [
    "### add $x_0 = 1$ to each $x_n$"
   ]
  },
  {
   "cell_type": "code",
   "execution_count": 21,
   "metadata": {},
   "outputs": [
    {
     "name": "stdout",
     "output_type": "stream",
     "text": [
      "shape of X: (400, 5)\n"
     ]
    }
   ],
   "source": [
    "X = np.insert(X, 0, 1, axis=1)\n",
    "print('shape of X:', X.shape)"
   ]
  },
  {
   "cell_type": "markdown",
   "metadata": {},
   "source": [
    "### 7."
   ]
  },
  {
   "cell_type": "code",
   "execution_count": 22,
   "metadata": {},
   "outputs": [],
   "source": [
    "import matplotlib.pyplot as plt"
   ]
  },
  {
   "cell_type": "code",
   "execution_count": 23,
   "metadata": {},
   "outputs": [
    {
     "name": "stdout",
     "output_type": "stream",
     "text": [
      "Average number of updates: 39.50355239786856\n"
     ]
    }
   ],
   "source": [
    "total_update_cnt = 0\n",
    "history = []\n",
    "for i in range(1126):\n",
    "    s = np.arange(X.shape[0])\n",
    "    np.random.shuffle(s)\n",
    "    X_rand = X[s]\n",
    "    y_rand = y[s]\n",
    "    W, update_cnt = PLA(X_rand, y_rand)\n",
    "    total_update_cnt = total_update_cnt + update_cnt\n",
    "    history.append(update_cnt)\n",
    "print('Average number of updates:', total_update_cnt/1126)"
   ]
  },
  {
   "cell_type": "code",
   "execution_count": 24,
   "metadata": {},
   "outputs": [
    {
     "data": {
      "image/png": "[encoded data removed]",
      "text/plain": [
       "<matplotlib.figure.Figure at 0x111dddf60>"
      ]
     },
     "metadata": {
      "needs_background": "light"
     },
     "output_type": "display_data"
    }
   ],
   "source": [
    "plt.hist(history, bins='auto')\n",
    "plt.title('Histogram of PLA')\n",
    "plt.xlabel('# of updates')\n",
    "plt.ylabel('frequency')\n",
    "plt.show()"
   ]
  }
 ],
 "metadata": {
  "kernelspec": {
   "display_name": "Python 3",
   "language": "python",
   "name": "python3"
  },
  "language_info": {
   "codemirror_mode": {
    "name": "ipython",
    "version": 3
   },
   "file_extension": ".py",
   "mimetype": "text/x-python",
   "name": "python",
   "nbconvert_exporter": "python",
   "pygments_lexer": "ipython3",
   "version": "3.6.5"
  }
 },
 "nbformat": 4,
 "nbformat_minor": 2
}
